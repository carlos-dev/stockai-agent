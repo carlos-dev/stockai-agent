{
 "cells": [
  {
   "cell_type": "markdown",
   "metadata": {},
   "source": [
    "### instalar lib"
   ]
  },
  {
   "cell_type": "code",
   "execution_count": 17,
   "metadata": {},
   "outputs": [],
   "source": [
    "import json\n",
    "import os\n",
    "from datetime import datetime\n",
    "import  yfinance as yf\n",
    "from crewai import Agent, Task\n",
    "from langchain.tools import Tool\n",
    "import pandas as pd"
   ]
  },
  {
   "cell_type": "code",
   "execution_count": 18,
   "metadata": {},
   "outputs": [],
   "source": [
    "def fetch_stock_price(ticker_input):\n",
    "    # Extract just the ticker symbol if it's provided in a more complex format\n",
    "    if isinstance(ticker_input, dict) and 'ticker' in ticker_input:\n",
    "        ticker = ticker_input['ticker']\n",
    "    elif isinstance(ticker_input, str):\n",
    "        ticker = ticker_input.strip().upper()\n",
    "    else:\n",
    "        raise ValueError(\"Invalid ticker format. Please provide a valid ticker symbol.\")\n",
    "    \n",
    "    # Validate the ticker before downloading\n",
    "    if not ticker or not isinstance(ticker, str):\n",
    "        raise ValueError(\"Ticker symbol is required and must be a string.\")\n",
    "    \n",
    "    try:\n",
    "        # Use a more reliable date range and add error handling\n",
    "        stock = yf.download(ticker, start='2023-01-01', end=pd.Timestamp.today().strftime('%Y-%m-%d'))\n",
    "        \n",
    "        # Check if data was actually returned\n",
    "        if stock.empty:\n",
    "            return f\"No data found for ticker {ticker}. Please verify the ticker symbol is correct.\"\n",
    "        \n",
    "        return stock\n",
    "    except Exception as e:\n",
    "        return f\"Error fetching data for {ticker}: {str(e)}\"\n",
    "\n",
    "yahoo_finance_tool = Tool(\n",
    "    name=\"Yahoo Finance Tool\",\n",
    "    description=\"This tool fetches stock price information for a given ticker symbol from Yahoo Finance\",\n",
    "    func=fetch_stock_price,\n",
    ")"
   ]
  },
  {
   "cell_type": "code",
   "execution_count": 19,
   "metadata": {},
   "outputs": [
    {
     "name": "stderr",
     "output_type": "stream",
     "text": [
      "[*********************100%***********************]  1 of 1 completed"
     ]
    },
    {
     "name": "stdout",
     "output_type": "stream",
     "text": [
      "Price            Close        High         Low        Open     Volume\n",
      "Ticker            AAPL        AAPL        AAPL        AAPL       AAPL\n",
      "Date                                                                 \n",
      "2023-01-03  123.632530  129.395518  122.742873  128.782649  112117500\n",
      "2023-01-04  124.907700  127.181268  123.642412  125.431607   89113600\n",
      "2023-01-05  123.583099  126.301493  123.326093  125.668849   80962700\n",
      "2023-01-06  128.130234  128.792531  123.454601  124.561732   87754700\n",
      "2023-01-09  128.654129  131.876670  128.397123  128.970458   70790800\n",
      "...                ...         ...         ...         ...        ...\n",
      "2025-03-10  227.479996  236.160004  224.220001  235.539993   72071200\n",
      "2025-03-11  220.839996  225.839996  217.449997  223.809998   76137400\n",
      "2025-03-12  216.979996  221.750000  214.910004  220.139999   62547500\n",
      "2025-03-13  209.679993  216.839996  208.419998  215.949997   61368300\n",
      "2025-03-14  213.490005  213.949997  209.580002  211.250000   60060200\n",
      "\n",
      "[551 rows x 5 columns]\n"
     ]
    },
    {
     "name": "stderr",
     "output_type": "stream",
     "text": [
      "\n"
     ]
    }
   ],
   "source": [
    "# Test the updated tool\n",
    "response = yahoo_finance_tool.run(\"AAPL\")\n",
    "print(response)\n",
    "\n",
    "# Test with ticker in dict format\n",
    "# response = yahoo_finance_tool.run({\"ticker\": \"MSFT\"})\n",
    "# print(f\"Data for MSFT:\\n{response.tail() if not isinstance(response, str) else response}\")"
   ]
  },
  {
   "cell_type": "code",
   "execution_count": null,
   "metadata": {},
   "outputs": [],
   "source": [
    "# Advanced version returning structured data\n",
    "def fetch_stock_data_structured(ticker_input):\n",
    "    # Get the raw data using our existing function\n",
    "    result = fetch_stock_price(ticker_input)\n",
    "    \n",
    "    # If the result is a string, it's an error message\n",
    "    if isinstance(result, str):\n",
    "        return result\n",
    "        \n",
    "    # Structure the data\n",
    "    return {\n",
    "        \"ticker\": ticker_input if isinstance(ticker_input, str) else ticker_input.get('ticker'),\n",
    "        \"data_points\": len(result),\n",
    "        \"date_range\": f\"{result.index.min().strftime('%Y-%m-%d')} to {result.index.max().strftime('%Y-%m-%d')}\",\n",
    "        \"latest_close\": result['Close'].iloc[-1] if not result.empty else None,\n",
    "        \"latest_data\": result.tail(5).to_dict()\n",
    "    }\n",
    "\n",
    "# Create an alternative tool that returns structured data\n",
    "yahoo_finance_structured_tool = Tool(\n",
    "    name=\"Yahoo Finance Structured Tool\",\n",
    "    description=\"This tool fetches structured stock price information for a given ticker symbol from Yahoo Finance\",\n",
    "    func=fetch_stock_data_structured,\n",
    ")"
   ]
  }
 ],
 "metadata": {
  "kernelspec": {
   "display_name": ".venv",
   "language": "python",
   "name": "python3"
  },
  "language_info": {
   "codemirror_mode": {
    "name": "ipython",
    "version": 3
   },
   "file_extension": ".py",
   "mimetype": "text/x-python",
   "name": "python",
   "nbconvert_exporter": "python",
   "pygments_lexer": "ipython3",
   "version": "3.11.9"
  }
 },
 "nbformat": 4,
 "nbformat_minor": 2
}
